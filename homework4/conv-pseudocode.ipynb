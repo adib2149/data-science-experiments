{
 "cells": [
  {
   "cell_type": "code",
   "execution_count": 1,
   "metadata": {},
   "outputs": [],
   "source": [
    "image = [[1,1,1,0,0],[0,1,1,1,0],[0,0,1,1,1],[0,0,1,1,0],[0,1,1,0,0]]"
   ]
  },
  {
   "cell_type": "code",
   "execution_count": 2,
   "metadata": {},
   "outputs": [],
   "source": [
    "flter = [[1,0,1],[0,1,0],[1,0,1]]"
   ]
  },
  {
   "cell_type": "code",
   "execution_count": 3,
   "metadata": {},
   "outputs": [],
   "source": [
    "def print_matrix(a):\n",
    "    for i in a:\n",
    "        for j in i:\n",
    "            print(j, end = ',')\n",
    "        print()"
   ]
  },
  {
   "cell_type": "code",
   "execution_count": 4,
   "metadata": {},
   "outputs": [
    {
     "name": "stdout",
     "output_type": "stream",
     "text": [
      "1,1,1,0,0,\n",
      "0,1,1,1,0,\n",
      "0,0,1,1,1,\n",
      "0,0,1,1,0,\n",
      "0,1,1,0,0,\n"
     ]
    }
   ],
   "source": [
    "print_matrix(image)"
   ]
  },
  {
   "cell_type": "code",
   "execution_count": 5,
   "metadata": {},
   "outputs": [
    {
     "name": "stdout",
     "output_type": "stream",
     "text": [
      "1,0,1,\n",
      "0,1,0,\n",
      "1,0,1,\n"
     ]
    }
   ],
   "source": [
    "print_matrix(flter)"
   ]
  },
  {
   "cell_type": "code",
   "execution_count": 6,
   "metadata": {},
   "outputs": [],
   "source": [
    "n = 5\n",
    "m = 5\n",
    "result = [[1000, 1000, 1000],[1000, 1000, 1000],[1000, 1000, 1000]]"
   ]
  },
  {
   "cell_type": "code",
   "execution_count": 7,
   "metadata": {},
   "outputs": [
    {
     "name": "stdout",
     "output_type": "stream",
     "text": [
      "1000,1000,1000,\n",
      "1000,1000,1000,\n",
      "1000,1000,1000,\n"
     ]
    }
   ],
   "source": [
    "print_matrix(result)"
   ]
  },
  {
   "cell_type": "code",
   "execution_count": 8,
   "metadata": {},
   "outputs": [],
   "source": [
    "for i in range(0,n-2):\n",
    "    for j in range(0,m-2):\n",
    "        # start conv\n",
    "        # i --> i+2, j --> j+2\n",
    "        sum = 0\n",
    "        for a in range(0,3):\n",
    "            for b in range(0,3):\n",
    "                sum = sum + image[i+a][j+b] * flter[a][b]\n",
    "        result[i][j] = sum"
   ]
  },
  {
   "cell_type": "code",
   "execution_count": 9,
   "metadata": {},
   "outputs": [
    {
     "name": "stdout",
     "output_type": "stream",
     "text": [
      "4,3,4,\n",
      "2,4,3,\n",
      "2,3,4,\n"
     ]
    }
   ],
   "source": [
    "print_matrix(result)"
   ]
  },
  {
   "cell_type": "code",
   "execution_count": null,
   "metadata": {},
   "outputs": [],
   "source": []
  }
 ],
 "metadata": {
  "kernelspec": {
   "display_name": "Python 3",
   "language": "python",
   "name": "python3"
  },
  "language_info": {
   "codemirror_mode": {
    "name": "ipython",
    "version": 3
   },
   "file_extension": ".py",
   "mimetype": "text/x-python",
   "name": "python",
   "nbconvert_exporter": "python",
   "pygments_lexer": "ipython3",
   "version": "3.7.3"
  }
 },
 "nbformat": 4,
 "nbformat_minor": 4
}
